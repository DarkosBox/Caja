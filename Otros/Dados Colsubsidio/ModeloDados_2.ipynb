{
 "cells": [
  {
   "cell_type": "markdown",
   "metadata": {},
   "source": [
    "<img src=\"https://www.cecodes.org.co/site/wp-content/uploads/2016/01/WP_asociado_COLSUBSIDIO-832x350.jpg\" alt=\"Logo Colsubsidio\" width=200>"
   ]
  },
  {
   "cell_type": "markdown",
   "metadata": {},
   "source": [
    "# Modelo de Propensión a uso de servicios Dados"
   ]
  },
  {
   "cell_type": "code",
   "execution_count": 1,
   "metadata": {},
   "outputs": [],
   "source": [
    "import pandas as pd\n",
    "import numpy as np"
   ]
  },
  {
   "cell_type": "code",
   "execution_count": 2,
   "metadata": {},
   "outputs": [
    {
     "data": {
      "text/plain": [
       "(808553, 31)"
      ]
     },
     "execution_count": 2,
     "metadata": {},
     "output_type": "execute_result"
    }
   ],
   "source": [
    "data=pd.read_csv('../BD/Depuradas/BD.csv',index_col=False, encoding=\"latin1\")\n",
    "data.shape"
   ]
  },
  {
   "cell_type": "code",
   "execution_count": 3,
   "metadata": {},
   "outputs": [
    {
     "data": {
      "text/plain": [
       "array(['id_afiliado', 'Futbol', 'Juegos', 'Fisico', 'Yoga', 'Infantil',\n",
       "       'N_Beneficiarios', 'piramide1', 'piramide2', 'salario',\n",
       "       'categoria', 'total_numero_grupo_familiar', 'genero', 'cx', 'cy',\n",
       "       'nivel_socioeconomico', 'segmento_poblacional', 'marca', 'Edad',\n",
       "       'descripcionciiu', 'actividad', 'n_afiliados', 'n_basico',\n",
       "       'n_medio', 'n_joven', 'n_alto', 'n_f', 'n_m', 'n_categoriaa',\n",
       "       'n_categoriab', 'n_categoriac'], dtype=object)"
      ]
     },
     "execution_count": 3,
     "metadata": {},
     "output_type": "execute_result"
    }
   ],
   "source": [
    "data.columns.values"
   ]
  },
  {
   "cell_type": "code",
   "execution_count": 48,
   "metadata": {},
   "outputs": [
    {
     "data": {
      "text/html": [
       "<div>\n",
       "<style scoped>\n",
       "    .dataframe tbody tr th:only-of-type {\n",
       "        vertical-align: middle;\n",
       "    }\n",
       "\n",
       "    .dataframe tbody tr th {\n",
       "        vertical-align: top;\n",
       "    }\n",
       "\n",
       "    .dataframe thead th {\n",
       "        text-align: right;\n",
       "    }\n",
       "</style>\n",
       "<table border=\"1\" class=\"dataframe\">\n",
       "  <thead>\n",
       "    <tr style=\"text-align: right;\">\n",
       "      <th></th>\n",
       "      <th>index</th>\n",
       "      <th>segmento_poblacional</th>\n",
       "    </tr>\n",
       "  </thead>\n",
       "  <tbody>\n",
       "    <tr>\n",
       "      <th>0</th>\n",
       "      <td>3</td>\n",
       "      <td>409846</td>\n",
       "    </tr>\n",
       "    <tr>\n",
       "      <th>1</th>\n",
       "      <td>5</td>\n",
       "      <td>362513</td>\n",
       "    </tr>\n",
       "    <tr>\n",
       "      <th>2</th>\n",
       "      <td>1</td>\n",
       "      <td>28854</td>\n",
       "    </tr>\n",
       "    <tr>\n",
       "      <th>3</th>\n",
       "      <td>2</td>\n",
       "      <td>7340</td>\n",
       "    </tr>\n",
       "  </tbody>\n",
       "</table>\n",
       "</div>"
      ],
      "text/plain": [
       "   index  segmento_poblacional\n",
       "0      3                409846\n",
       "1      5                362513\n",
       "2      1                 28854\n",
       "3      2                  7340"
      ]
     },
     "execution_count": 48,
     "metadata": {},
     "output_type": "execute_result"
    }
   ],
   "source": [
    "pd.value_counts(data.segmento_poblacional).to_frame().reset_index()"
   ]
  },
  {
   "cell_type": "code",
   "execution_count": 4,
   "metadata": {},
   "outputs": [],
   "source": [
    "categoricas=[\"piramide1\",\"piramide2\",\"categoria\",\"genero\",\"descripcionciiu\",\"actividad\"]\n",
    "\n",
    "for var in categoricas:\n",
    "    data[var] = data[var].astype(\"category\")"
   ]
  },
  {
   "cell_type": "code",
   "execution_count": 5,
   "metadata": {},
   "outputs": [],
   "source": [
    "features=[\n",
    "       'piramide1', 'piramide2', 'salario', 'categoria',\n",
    "       'total_numero_grupo_familiar', 'genero',\n",
    "       'Edad', 'descripcionciiu', 'actividad',\n",
    "       'n_afiliados', 'n_basico', 'n_medio', 'n_joven', 'n_alto', 'n_f', 'n_m',\n",
    "       'n_categoriaa', 'n_categoriab', 'n_categoriac']\n",
    "\n",
    "targets=['Futbol','Juegos', 'Fisico', 'Yoga','Infantil']\n",
    "\n",
    "X=data[features]\n",
    "y=data[targets]"
   ]
  },
  {
   "cell_type": "code",
   "execution_count": 6,
   "metadata": {},
   "outputs": [
    {
     "data": {
      "text/html": [
       "<div>\n",
       "<style scoped>\n",
       "    .dataframe tbody tr th:only-of-type {\n",
       "        vertical-align: middle;\n",
       "    }\n",
       "\n",
       "    .dataframe tbody tr th {\n",
       "        vertical-align: top;\n",
       "    }\n",
       "\n",
       "    .dataframe thead th {\n",
       "        text-align: right;\n",
       "    }\n",
       "</style>\n",
       "<table border=\"1\" class=\"dataframe\">\n",
       "  <thead>\n",
       "    <tr style=\"text-align: right;\">\n",
       "      <th></th>\n",
       "      <th>salario</th>\n",
       "      <th>total_numero_grupo_familiar</th>\n",
       "      <th>Edad</th>\n",
       "      <th>n_afiliados</th>\n",
       "      <th>n_basico</th>\n",
       "      <th>n_medio</th>\n",
       "      <th>n_joven</th>\n",
       "      <th>n_alto</th>\n",
       "      <th>n_f</th>\n",
       "      <th>n_m</th>\n",
       "      <th>...</th>\n",
       "      <th>Act_Agricultura, Caza, Silvicultura y pesca</th>\n",
       "      <th>Act_Comercio al por Mayor y al por Menor</th>\n",
       "      <th>Act_Construccion, demoliciones, terrenos, Vias.</th>\n",
       "      <th>Act_Electricidad, Gas, Agua y explotacion de minas</th>\n",
       "      <th>Act_Industria</th>\n",
       "      <th>Act_Otros</th>\n",
       "      <th>Act_Prestacion de Servicios (Educacion, Banca, Comunicaciones, Seguros, Salud, Arte y Cultura)</th>\n",
       "      <th>Act_Publico</th>\n",
       "      <th>Act_Tansporte y Almacenamiento</th>\n",
       "      <th>Act_Temporales</th>\n",
       "    </tr>\n",
       "  </thead>\n",
       "  <tbody>\n",
       "    <tr>\n",
       "      <th>0</th>\n",
       "      <td>800000.0</td>\n",
       "      <td>2</td>\n",
       "      <td>30</td>\n",
       "      <td>2342</td>\n",
       "      <td>1809</td>\n",
       "      <td>291</td>\n",
       "      <td>242</td>\n",
       "      <td>3</td>\n",
       "      <td>1826</td>\n",
       "      <td>516</td>\n",
       "      <td>...</td>\n",
       "      <td>0</td>\n",
       "      <td>0</td>\n",
       "      <td>0</td>\n",
       "      <td>0</td>\n",
       "      <td>0</td>\n",
       "      <td>0</td>\n",
       "      <td>1</td>\n",
       "      <td>0</td>\n",
       "      <td>0</td>\n",
       "      <td>0</td>\n",
       "    </tr>\n",
       "    <tr>\n",
       "      <th>1</th>\n",
       "      <td>781242.0</td>\n",
       "      <td>1</td>\n",
       "      <td>25</td>\n",
       "      <td>2639</td>\n",
       "      <td>2245</td>\n",
       "      <td>291</td>\n",
       "      <td>102</td>\n",
       "      <td>1</td>\n",
       "      <td>2107</td>\n",
       "      <td>532</td>\n",
       "      <td>...</td>\n",
       "      <td>0</td>\n",
       "      <td>0</td>\n",
       "      <td>0</td>\n",
       "      <td>0</td>\n",
       "      <td>0</td>\n",
       "      <td>0</td>\n",
       "      <td>0</td>\n",
       "      <td>0</td>\n",
       "      <td>1</td>\n",
       "      <td>0</td>\n",
       "    </tr>\n",
       "    <tr>\n",
       "      <th>2</th>\n",
       "      <td>1777480.0</td>\n",
       "      <td>2</td>\n",
       "      <td>28</td>\n",
       "      <td>2170</td>\n",
       "      <td>1</td>\n",
       "      <td>2031</td>\n",
       "      <td>138</td>\n",
       "      <td>3</td>\n",
       "      <td>1014</td>\n",
       "      <td>1156</td>\n",
       "      <td>...</td>\n",
       "      <td>0</td>\n",
       "      <td>0</td>\n",
       "      <td>0</td>\n",
       "      <td>0</td>\n",
       "      <td>0</td>\n",
       "      <td>0</td>\n",
       "      <td>0</td>\n",
       "      <td>1</td>\n",
       "      <td>0</td>\n",
       "      <td>0</td>\n",
       "    </tr>\n",
       "  </tbody>\n",
       "</table>\n",
       "<p>3 rows × 519 columns</p>\n",
       "</div>"
      ],
      "text/plain": [
       "     salario  total_numero_grupo_familiar  Edad  n_afiliados  n_basico  \\\n",
       "0   800000.0                            2    30         2342      1809   \n",
       "1   781242.0                            1    25         2639      2245   \n",
       "2  1777480.0                            2    28         2170         1   \n",
       "\n",
       "   n_medio  n_joven  n_alto   n_f   n_m       ...        \\\n",
       "0      291      242       3  1826   516       ...         \n",
       "1      291      102       1  2107   532       ...         \n",
       "2     2031      138       3  1014  1156       ...         \n",
       "\n",
       "   Act_Agricultura, Caza, Silvicultura y pesca  \\\n",
       "0                                            0   \n",
       "1                                            0   \n",
       "2                                            0   \n",
       "\n",
       "   Act_Comercio al por Mayor y al por Menor  \\\n",
       "0                                         0   \n",
       "1                                         0   \n",
       "2                                         0   \n",
       "\n",
       "   Act_Construccion, demoliciones, terrenos, Vias.  \\\n",
       "0                                                0   \n",
       "1                                                0   \n",
       "2                                                0   \n",
       "\n",
       "   Act_Electricidad, Gas, Agua y explotacion de minas  Act_Industria  \\\n",
       "0                                                  0               0   \n",
       "1                                                  0               0   \n",
       "2                                                  0               0   \n",
       "\n",
       "   Act_Otros  \\\n",
       "0          0   \n",
       "1          0   \n",
       "2          0   \n",
       "\n",
       "   Act_Prestacion de Servicios (Educacion, Banca, Comunicaciones, Seguros, Salud, Arte y Cultura)  \\\n",
       "0                                                  1                                                \n",
       "1                                                  0                                                \n",
       "2                                                  0                                                \n",
       "\n",
       "   Act_Publico  Act_Tansporte y Almacenamiento  Act_Temporales  \n",
       "0            0                               0               0  \n",
       "1            0                               1               0  \n",
       "2            1                               0               0  \n",
       "\n",
       "[3 rows x 519 columns]"
      ]
     },
     "execution_count": 6,
     "metadata": {},
     "output_type": "execute_result"
    }
   ],
   "source": [
    "X=pd.get_dummies(X, columns=categoricas, prefix=[\"pir1\", \"pir2\", \"cate\", \"genero\",\"CIIU\",\"Act\"])\n",
    "X.head(3)"
   ]
  },
  {
   "cell_type": "code",
   "execution_count": 7,
   "metadata": {},
   "outputs": [
    {
     "name": "stdout",
     "output_type": "stream",
     "text": [
      "(565987, 519) (242566, 519) (565987, 5) (242566, 5)\n"
     ]
    }
   ],
   "source": [
    "from sklearn.model_selection import train_test_split\n",
    "X_train, X_test, y_train, y_test = train_test_split(X, y, test_size=0.3, random_state=31415)\n",
    "print(X_train.shape, X_test.shape, y_train.shape, y_test.shape)"
   ]
  },
  {
   "cell_type": "code",
   "execution_count": 35,
   "metadata": {},
   "outputs": [],
   "source": [
    "from sklearn.multiclass import OneVsRestClassifier\n",
    "from sklearn.ensemble import RandomForestClassifier\n",
    "\n",
    "clf = OneVsRestClassifier(RandomForestClassifier(n_jobs=-1, n_estimators=1000, max_depth=20, random_state=31415, \n",
    "                                                 class_weight='balanced'))"
   ]
  },
  {
   "cell_type": "code",
   "execution_count": 36,
   "metadata": {},
   "outputs": [
    {
     "data": {
      "text/plain": [
       "OneVsRestClassifier(estimator=RandomForestClassifier(bootstrap=True, class_weight='balanced',\n",
       "            criterion='gini', max_depth=20, max_features='auto',\n",
       "            max_leaf_nodes=None, min_impurity_decrease=0.0,\n",
       "            min_impurity_split=None, min_samples_leaf=1,\n",
       "            min_samples_split=2, min_weight_fraction_leaf=0.0,\n",
       "            n_estimators=1000, n_jobs=-1, oob_score=False,\n",
       "            random_state=31415, verbose=0, warm_start=False),\n",
       "          n_jobs=1)"
      ]
     },
     "execution_count": 36,
     "metadata": {},
     "output_type": "execute_result"
    }
   ],
   "source": [
    "clf.fit(X_train, y_train)"
   ]
  },
  {
   "cell_type": "code",
   "execution_count": 37,
   "metadata": {},
   "outputs": [],
   "source": [
    "y_pred = clf.predict_proba(X_test)"
   ]
  },
  {
   "cell_type": "code",
   "execution_count": 38,
   "metadata": {},
   "outputs": [
    {
     "data": {
      "text/plain": [
       "0.9127561067533787"
      ]
     },
     "execution_count": 38,
     "metadata": {},
     "output_type": "execute_result"
    }
   ],
   "source": [
    "from sklearn.metrics import roc_auc_score\n",
    "roc_auc_score(y_test, y_pred, average='macro')"
   ]
  },
  {
   "cell_type": "code",
   "execution_count": 39,
   "metadata": {},
   "outputs": [
    {
     "data": {
      "text/plain": [
       "array([[0.2565704 , 0.2574864 , 0.21911205, 0.37926165, 0.2021449 ],\n",
       "       [0.18318967, 0.25585973, 0.12469914, 0.23437109, 0.23187326],\n",
       "       [0.21466966, 0.18775863, 0.09332054, 0.18966579, 0.19369962],\n",
       "       ...,\n",
       "       [0.15232847, 0.11334595, 0.05402118, 0.20308881, 0.18132058],\n",
       "       [0.16452822, 0.14867923, 0.08750828, 0.17107853, 0.22589738],\n",
       "       [0.22778811, 0.24682846, 0.09866806, 0.23242476, 0.43161926]])"
      ]
     },
     "execution_count": 39,
     "metadata": {},
     "output_type": "execute_result"
    }
   ],
   "source": [
    "y_pred"
   ]
  },
  {
   "cell_type": "code",
   "execution_count": 40,
   "metadata": {},
   "outputs": [
    {
     "data": {
      "text/plain": [
       "0.9847398965641295"
      ]
     },
     "execution_count": 40,
     "metadata": {},
     "output_type": "execute_result"
    }
   ],
   "source": [
    "y_pred_t = clf.predict_proba(X_train)\n",
    "roc_auc_score(y_train, y_pred_t, average='macro')"
   ]
  },
  {
   "cell_type": "code",
   "execution_count": 41,
   "metadata": {},
   "outputs": [
    {
     "data": {
      "text/plain": [
       "0.9632091065861893"
      ]
     },
     "execution_count": 41,
     "metadata": {},
     "output_type": "execute_result"
    }
   ],
   "source": [
    "y_pred_bd = clf.predict_proba(X)\n",
    "roc_auc_score(y, y_pred_bd, average='macro')"
   ]
  },
  {
   "cell_type": "code",
   "execution_count": 42,
   "metadata": {},
   "outputs": [
    {
     "data": {
      "text/plain": [
       "array([[0.10361054, 0.06887037, 0.04939748, 0.10231354, 0.14386535],\n",
       "       [0.07170422, 0.01993994, 0.01870636, 0.0471656 , 0.12160452],\n",
       "       [0.32918971, 0.08526598, 0.13942399, 0.26078667, 0.14625563],\n",
       "       ...,\n",
       "       [0.1301817 , 0.09015219, 0.08959467, 0.12753872, 0.28885281],\n",
       "       [0.12256863, 0.10700179, 0.10216592, 0.14462434, 0.25741599],\n",
       "       [0.18537066, 0.16402852, 0.28201859, 0.28622612, 0.25386523]])"
      ]
     },
     "execution_count": 42,
     "metadata": {},
     "output_type": "execute_result"
    }
   ],
   "source": [
    "y_pred_bd"
   ]
  },
  {
   "cell_type": "code",
   "execution_count": 43,
   "metadata": {},
   "outputs": [],
   "source": [
    "Data_Fin = pd.concat([data.reset_index(drop=True), pd.DataFrame(y_pred_bd)], axis=1)"
   ]
  },
  {
   "cell_type": "code",
   "execution_count": 44,
   "metadata": {},
   "outputs": [
    {
     "data": {
      "text/html": [
       "<div>\n",
       "<style scoped>\n",
       "    .dataframe tbody tr th:only-of-type {\n",
       "        vertical-align: middle;\n",
       "    }\n",
       "\n",
       "    .dataframe tbody tr th {\n",
       "        vertical-align: top;\n",
       "    }\n",
       "\n",
       "    .dataframe thead th {\n",
       "        text-align: right;\n",
       "    }\n",
       "</style>\n",
       "<table border=\"1\" class=\"dataframe\">\n",
       "  <thead>\n",
       "    <tr style=\"text-align: right;\">\n",
       "      <th></th>\n",
       "      <th>id_afiliado</th>\n",
       "      <th>Futbol</th>\n",
       "      <th>Juegos</th>\n",
       "      <th>Fisico</th>\n",
       "      <th>Yoga</th>\n",
       "      <th>Infantil</th>\n",
       "      <th>N_Beneficiarios</th>\n",
       "      <th>piramide1</th>\n",
       "      <th>piramide2</th>\n",
       "      <th>salario</th>\n",
       "      <th>...</th>\n",
       "      <th>n_f</th>\n",
       "      <th>n_m</th>\n",
       "      <th>n_categoriaa</th>\n",
       "      <th>n_categoriab</th>\n",
       "      <th>n_categoriac</th>\n",
       "      <th>0</th>\n",
       "      <th>1</th>\n",
       "      <th>2</th>\n",
       "      <th>3</th>\n",
       "      <th>4</th>\n",
       "    </tr>\n",
       "  </thead>\n",
       "  <tbody>\n",
       "    <tr>\n",
       "      <th>0</th>\n",
       "      <td>CC1000000210</td>\n",
       "      <td>0</td>\n",
       "      <td>0</td>\n",
       "      <td>0</td>\n",
       "      <td>0</td>\n",
       "      <td>0</td>\n",
       "      <td>3</td>\n",
       "      <td>2 Emp Medio</td>\n",
       "      <td>2.2 Silver</td>\n",
       "      <td>800000.0</td>\n",
       "      <td>...</td>\n",
       "      <td>1826</td>\n",
       "      <td>516</td>\n",
       "      <td>2219</td>\n",
       "      <td>102</td>\n",
       "      <td>21</td>\n",
       "      <td>0.103611</td>\n",
       "      <td>0.068870</td>\n",
       "      <td>0.049397</td>\n",
       "      <td>0.102314</td>\n",
       "      <td>0.143865</td>\n",
       "    </tr>\n",
       "    <tr>\n",
       "      <th>1</th>\n",
       "      <td>CC1000000255</td>\n",
       "      <td>0</td>\n",
       "      <td>0</td>\n",
       "      <td>0</td>\n",
       "      <td>0</td>\n",
       "      <td>0</td>\n",
       "      <td>2</td>\n",
       "      <td>3 Empresas Pymes</td>\n",
       "      <td>3.1 VIP</td>\n",
       "      <td>781242.0</td>\n",
       "      <td>...</td>\n",
       "      <td>2107</td>\n",
       "      <td>532</td>\n",
       "      <td>2572</td>\n",
       "      <td>58</td>\n",
       "      <td>9</td>\n",
       "      <td>0.071704</td>\n",
       "      <td>0.019940</td>\n",
       "      <td>0.018706</td>\n",
       "      <td>0.047166</td>\n",
       "      <td>0.121605</td>\n",
       "    </tr>\n",
       "    <tr>\n",
       "      <th>2</th>\n",
       "      <td>CC1000000381</td>\n",
       "      <td>0</td>\n",
       "      <td>0</td>\n",
       "      <td>0</td>\n",
       "      <td>0</td>\n",
       "      <td>0</td>\n",
       "      <td>3</td>\n",
       "      <td>1 Emp Grandes</td>\n",
       "      <td>1.1 Platinum</td>\n",
       "      <td>1777480.0</td>\n",
       "      <td>...</td>\n",
       "      <td>1014</td>\n",
       "      <td>1156</td>\n",
       "      <td>34</td>\n",
       "      <td>666</td>\n",
       "      <td>1470</td>\n",
       "      <td>0.329190</td>\n",
       "      <td>0.085266</td>\n",
       "      <td>0.139424</td>\n",
       "      <td>0.260787</td>\n",
       "      <td>0.146256</td>\n",
       "    </tr>\n",
       "    <tr>\n",
       "      <th>3</th>\n",
       "      <td>CC1000000418</td>\n",
       "      <td>0</td>\n",
       "      <td>0</td>\n",
       "      <td>0</td>\n",
       "      <td>0</td>\n",
       "      <td>0</td>\n",
       "      <td>2</td>\n",
       "      <td>3 Empresas Pymes</td>\n",
       "      <td>3.1 VIP</td>\n",
       "      <td>781242.0</td>\n",
       "      <td>...</td>\n",
       "      <td>1991</td>\n",
       "      <td>555</td>\n",
       "      <td>2437</td>\n",
       "      <td>96</td>\n",
       "      <td>13</td>\n",
       "      <td>0.036197</td>\n",
       "      <td>0.018229</td>\n",
       "      <td>0.026910</td>\n",
       "      <td>0.083765</td>\n",
       "      <td>0.101776</td>\n",
       "    </tr>\n",
       "    <tr>\n",
       "      <th>4</th>\n",
       "      <td>CC1000000426</td>\n",
       "      <td>0</td>\n",
       "      <td>0</td>\n",
       "      <td>0</td>\n",
       "      <td>0</td>\n",
       "      <td>0</td>\n",
       "      <td>3</td>\n",
       "      <td>1 Emp Grandes</td>\n",
       "      <td>1.2 Premium</td>\n",
       "      <td>815000.0</td>\n",
       "      <td>...</td>\n",
       "      <td>4214</td>\n",
       "      <td>2945</td>\n",
       "      <td>6322</td>\n",
       "      <td>756</td>\n",
       "      <td>81</td>\n",
       "      <td>0.088184</td>\n",
       "      <td>0.040771</td>\n",
       "      <td>0.029055</td>\n",
       "      <td>0.076291</td>\n",
       "      <td>0.064160</td>\n",
       "    </tr>\n",
       "    <tr>\n",
       "      <th>5</th>\n",
       "      <td>CC1000000456</td>\n",
       "      <td>0</td>\n",
       "      <td>0</td>\n",
       "      <td>0</td>\n",
       "      <td>0</td>\n",
       "      <td>0</td>\n",
       "      <td>4</td>\n",
       "      <td>1 Emp Grandes</td>\n",
       "      <td>1.2 Premium</td>\n",
       "      <td>781242.0</td>\n",
       "      <td>...</td>\n",
       "      <td>2711</td>\n",
       "      <td>3839</td>\n",
       "      <td>6084</td>\n",
       "      <td>406</td>\n",
       "      <td>60</td>\n",
       "      <td>0.120863</td>\n",
       "      <td>0.046862</td>\n",
       "      <td>0.026957</td>\n",
       "      <td>0.096781</td>\n",
       "      <td>0.090033</td>\n",
       "    </tr>\n",
       "    <tr>\n",
       "      <th>6</th>\n",
       "      <td>CC1000001427</td>\n",
       "      <td>0</td>\n",
       "      <td>0</td>\n",
       "      <td>0</td>\n",
       "      <td>0</td>\n",
       "      <td>0</td>\n",
       "      <td>3</td>\n",
       "      <td>1 Emp Grandes</td>\n",
       "      <td>1.1 Platinum</td>\n",
       "      <td>898704.0</td>\n",
       "      <td>...</td>\n",
       "      <td>4991</td>\n",
       "      <td>4716</td>\n",
       "      <td>8099</td>\n",
       "      <td>1333</td>\n",
       "      <td>275</td>\n",
       "      <td>0.026023</td>\n",
       "      <td>0.056460</td>\n",
       "      <td>0.020488</td>\n",
       "      <td>0.083765</td>\n",
       "      <td>0.039454</td>\n",
       "    </tr>\n",
       "    <tr>\n",
       "      <th>7</th>\n",
       "      <td>CC1000001437</td>\n",
       "      <td>0</td>\n",
       "      <td>0</td>\n",
       "      <td>0</td>\n",
       "      <td>0</td>\n",
       "      <td>0</td>\n",
       "      <td>2</td>\n",
       "      <td>2 Emp Medio</td>\n",
       "      <td>2.2 Silver</td>\n",
       "      <td>781242.0</td>\n",
       "      <td>...</td>\n",
       "      <td>324</td>\n",
       "      <td>1237</td>\n",
       "      <td>1424</td>\n",
       "      <td>115</td>\n",
       "      <td>22</td>\n",
       "      <td>0.087573</td>\n",
       "      <td>0.073765</td>\n",
       "      <td>0.037968</td>\n",
       "      <td>0.087945</td>\n",
       "      <td>0.107620</td>\n",
       "    </tr>\n",
       "    <tr>\n",
       "      <th>8</th>\n",
       "      <td>CC1000001511</td>\n",
       "      <td>0</td>\n",
       "      <td>0</td>\n",
       "      <td>0</td>\n",
       "      <td>0</td>\n",
       "      <td>0</td>\n",
       "      <td>3</td>\n",
       "      <td>2 Emp Medio</td>\n",
       "      <td>2.2 Silver</td>\n",
       "      <td>737717.0</td>\n",
       "      <td>...</td>\n",
       "      <td>324</td>\n",
       "      <td>1237</td>\n",
       "      <td>1424</td>\n",
       "      <td>115</td>\n",
       "      <td>22</td>\n",
       "      <td>0.117649</td>\n",
       "      <td>0.103790</td>\n",
       "      <td>0.038695</td>\n",
       "      <td>0.084234</td>\n",
       "      <td>0.146965</td>\n",
       "    </tr>\n",
       "    <tr>\n",
       "      <th>9</th>\n",
       "      <td>CC1000001514</td>\n",
       "      <td>0</td>\n",
       "      <td>0</td>\n",
       "      <td>0</td>\n",
       "      <td>0</td>\n",
       "      <td>0</td>\n",
       "      <td>3</td>\n",
       "      <td>3 Empresas Pymes</td>\n",
       "      <td>3.1 VIP</td>\n",
       "      <td>1550000.0</td>\n",
       "      <td>...</td>\n",
       "      <td>208</td>\n",
       "      <td>53</td>\n",
       "      <td>211</td>\n",
       "      <td>23</td>\n",
       "      <td>27</td>\n",
       "      <td>0.137006</td>\n",
       "      <td>0.134570</td>\n",
       "      <td>0.066993</td>\n",
       "      <td>0.117802</td>\n",
       "      <td>0.288880</td>\n",
       "    </tr>\n",
       "  </tbody>\n",
       "</table>\n",
       "<p>10 rows × 36 columns</p>\n",
       "</div>"
      ],
      "text/plain": [
       "    id_afiliado  Futbol  Juegos  Fisico  Yoga  Infantil  N_Beneficiarios  \\\n",
       "0  CC1000000210       0       0       0     0         0                3   \n",
       "1  CC1000000255       0       0       0     0         0                2   \n",
       "2  CC1000000381       0       0       0     0         0                3   \n",
       "3  CC1000000418       0       0       0     0         0                2   \n",
       "4  CC1000000426       0       0       0     0         0                3   \n",
       "5  CC1000000456       0       0       0     0         0                4   \n",
       "6  CC1000001427       0       0       0     0         0                3   \n",
       "7  CC1000001437       0       0       0     0         0                2   \n",
       "8  CC1000001511       0       0       0     0         0                3   \n",
       "9  CC1000001514       0       0       0     0         0                3   \n",
       "\n",
       "          piramide1     piramide2    salario    ...      n_f   n_m  \\\n",
       "0       2 Emp Medio    2.2 Silver   800000.0    ...     1826   516   \n",
       "1  3 Empresas Pymes       3.1 VIP   781242.0    ...     2107   532   \n",
       "2     1 Emp Grandes  1.1 Platinum  1777480.0    ...     1014  1156   \n",
       "3  3 Empresas Pymes       3.1 VIP   781242.0    ...     1991   555   \n",
       "4     1 Emp Grandes   1.2 Premium   815000.0    ...     4214  2945   \n",
       "5     1 Emp Grandes   1.2 Premium   781242.0    ...     2711  3839   \n",
       "6     1 Emp Grandes  1.1 Platinum   898704.0    ...     4991  4716   \n",
       "7       2 Emp Medio    2.2 Silver   781242.0    ...      324  1237   \n",
       "8       2 Emp Medio    2.2 Silver   737717.0    ...      324  1237   \n",
       "9  3 Empresas Pymes       3.1 VIP  1550000.0    ...      208    53   \n",
       "\n",
       "  n_categoriaa  n_categoriab  n_categoriac         0         1         2  \\\n",
       "0         2219           102            21  0.103611  0.068870  0.049397   \n",
       "1         2572            58             9  0.071704  0.019940  0.018706   \n",
       "2           34           666          1470  0.329190  0.085266  0.139424   \n",
       "3         2437            96            13  0.036197  0.018229  0.026910   \n",
       "4         6322           756            81  0.088184  0.040771  0.029055   \n",
       "5         6084           406            60  0.120863  0.046862  0.026957   \n",
       "6         8099          1333           275  0.026023  0.056460  0.020488   \n",
       "7         1424           115            22  0.087573  0.073765  0.037968   \n",
       "8         1424           115            22  0.117649  0.103790  0.038695   \n",
       "9          211            23            27  0.137006  0.134570  0.066993   \n",
       "\n",
       "          3         4  \n",
       "0  0.102314  0.143865  \n",
       "1  0.047166  0.121605  \n",
       "2  0.260787  0.146256  \n",
       "3  0.083765  0.101776  \n",
       "4  0.076291  0.064160  \n",
       "5  0.096781  0.090033  \n",
       "6  0.083765  0.039454  \n",
       "7  0.087945  0.107620  \n",
       "8  0.084234  0.146965  \n",
       "9  0.117802  0.288880  \n",
       "\n",
       "[10 rows x 36 columns]"
      ]
     },
     "execution_count": 44,
     "metadata": {},
     "output_type": "execute_result"
    }
   ],
   "source": [
    "Data_Fin.head(10)"
   ]
  },
  {
   "cell_type": "code",
   "execution_count": 46,
   "metadata": {},
   "outputs": [],
   "source": [
    "Data_Fin.to_csv('../BD/Depuradas/BD_Calif.csv', sep='|', encoding='utf-8', index=False)"
   ]
  },
  {
   "cell_type": "code",
   "execution_count": 47,
   "metadata": {},
   "outputs": [
    {
     "data": {
      "text/plain": [
       "['../Resultados/ModeloDados.pkl']"
      ]
     },
     "execution_count": 47,
     "metadata": {},
     "output_type": "execute_result"
    }
   ],
   "source": [
    "from sklearn.externals import joblib\n",
    "joblib.dump(clf, '../Resultados/ModeloDados.pkl')"
   ]
  }
 ],
 "metadata": {
  "kernelspec": {
   "display_name": "Python 3",
   "language": "python",
   "name": "python3"
  },
  "language_info": {
   "codemirror_mode": {
    "name": "ipython",
    "version": 3
   },
   "file_extension": ".py",
   "mimetype": "text/x-python",
   "name": "python",
   "nbconvert_exporter": "python",
   "pygments_lexer": "ipython3",
   "version": "3.6.4"
  }
 },
 "nbformat": 4,
 "nbformat_minor": 2
}
