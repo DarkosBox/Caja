{
 "cells": [
  {
   "cell_type": "markdown",
   "metadata": {},
   "source": [
    "<img src=\"https://www.cecodes.org.co/site/wp-content/uploads/2016/01/WP_asociado_COLSUBSIDIO-832x350.jpg\" alt=\"Logo Colsubsidio\" width=200>"
   ]
  },
  {
   "cell_type": "code",
   "execution_count": 1,
   "metadata": {},
   "outputs": [],
   "source": [
    "# conda install -c r rpy2\n",
    "%load_ext rpy2.ipython \n",
    "import os\n",
    "import numpy as np\n",
    "import pandas as pd\n",
    "import re\n",
    "from datetime import datetime"
   ]
  },
  {
   "cell_type": "code",
   "execution_count": 2,
   "metadata": {},
   "outputs": [],
   "source": [
    "import unidecode #conda install -c anaconda unidecode\n",
    "def Limpiar_Nombres(cadena):\n",
    "    s=re.sub(' ','',re.sub(r'(\\W)\\1+', r'\\1',cadena.lower()))\n",
    "    s=unidecode.unidecode(s)\n",
    "    return s"
   ]
  },
  {
   "cell_type": "markdown",
   "metadata": {},
   "source": [
    "# Calificación Modelo de Retención"
   ]
  },
  {
   "cell_type": "markdown",
   "metadata": {},
   "source": [
    "Para calificar la base se necesita la base de datos de cobranzas el primer dia hábil del mes en formato **csv**"
   ]
  },
  {
   "cell_type": "markdown",
   "metadata": {},
   "source": [
    "## Importación"
   ]
  },
  {
   "cell_type": "markdown",
   "metadata": {},
   "source": [
    "Para la calificación del modelo se requieren 3 bases de datos:\n",
    "\n",
    "1. Base de datos de cobranza a cierre del mes de análisis: \\\\BOGA04beimrodc\\FILIALES\\Credito\\BD Cobranzas\n",
    "2. Listados de identificaciones con el fin de homologar con el formato de identificación de Inteligencia de Negocios.\n",
    "3. Listados de estados de tarjetas."
   ]
  },
  {
   "cell_type": "markdown",
   "metadata": {},
   "source": [
    "### Base de datos de cobranzas"
   ]
  },
  {
   "cell_type": "code",
   "execution_count": 3,
   "metadata": {},
   "outputs": [],
   "source": [
    "calif = pd.read_csv(\"../BD/Calificar/Base_Calificar.csv\", encoding='latin1', index_col=False, low_memory=False, thousands=',')\n",
    "calif = calif.rename(columns=lambda x: Limpiar_Nombres(x))\n",
    "calif=calif[[\"tipoidentificacion\",\"nroidentificacion\",\"tarjeta\",\"fechaexpedicion\",\"fechaproceso\",\"disponibleavances\",\n",
    "             \"limiteavances\",\"totalintereses\",\"saldosmesant\",\"pagosmesant\",\"vtasmesant\",\"edadmora\",\"limitecupo\",\n",
    "             \"pagodelmes\",\"pagominimo\",\"vrmora\",\"vrcuotamanejo\",\"saldo\",\"estadotarjeta\"]]"
   ]
  },
  {
   "cell_type": "markdown",
   "metadata": {},
   "source": [
    "Antes de continuar es importante verificar que la fecha de proceso de la base cargada corresponda a la que se requiere"
   ]
  },
  {
   "cell_type": "code",
   "execution_count": 4,
   "metadata": {},
   "outputs": [
    {
     "name": "stdout",
     "output_type": "stream",
     "text": [
      "Base de datos con fecha:  ['01/08/2018']\n"
     ]
    }
   ],
   "source": [
    "print(\"Base de datos con fecha: \",list(set(calif['fechaproceso'])))"
   ]
  },
  {
   "cell_type": "markdown",
   "metadata": {},
   "source": [
    "### Base de datos de identificaciones"
   ]
  },
  {
   "cell_type": "code",
   "execution_count": 5,
   "metadata": {},
   "outputs": [],
   "source": [
    "id_ = pd.DataFrame(data={'tipoidentificacion': [1,2,3,4], 't_id': [\"\",\"CC\",\"CE\",\"TI\"]})"
   ]
  },
  {
   "cell_type": "markdown",
   "metadata": {},
   "source": [
    "### Base de Datos de Estados de tarjeta"
   ]
  },
  {
   "cell_type": "code",
   "execution_count": 6,
   "metadata": {},
   "outputs": [],
   "source": [
    "estados = pd.read_csv(\"../BD/Auxiliar/EstadosTarjeta.csv\", encoding='latin1', index_col=False, sep=\";\")"
   ]
  },
  {
   "cell_type": "markdown",
   "metadata": {},
   "source": [
    "## Preparación de los datos"
   ]
  },
  {
   "cell_type": "markdown",
   "metadata": {},
   "source": [
    "Inicialmente se construye una base de datos que contiene las caracteristicas para las tarjetas activas a la fecha de corte"
   ]
  },
  {
   "cell_type": "code",
   "execution_count": 7,
   "metadata": {},
   "outputs": [],
   "source": [
    "# Unión de las bases de datos.\n",
    "DB=calif.merge(id_,on='tipoidentificacion', how='left').merge(estados,on='estadotarjeta', how='left')\n",
    "\n",
    "# Filtro a cuentas activas\n",
    "DB=DB[DB['ESTADOCUPO']=='ACTIVO']\n",
    "\n",
    "# Construcción ID formato inteligencia de negocios.\n",
    "DB['IdPersona']= DB[\"t_id\"].map(str) + DB[\"nroidentificacion\"].map(str)\n",
    "\n",
    "# Selección de Columnas\n",
    "DB=DB[['IdPersona', \"tarjeta\", \"fechaexpedicion\",\"fechaproceso\",\"disponibleavances\",\"limiteavances\", \"totalintereses\",\n",
    "       \"saldosmesant\",\"pagosmesant\",\"vtasmesant\",\"edadmora\",\"limitecupo\",\"pagodelmes\",\"pagominimo\",\"vrmora\",\"vrcuotamanejo\",\n",
    "       \"saldo\"]]\n",
    "\n",
    "# Renombramiento de columnas para que coincidan con el modelo\n",
    "DB.columns=[\"identificacion\",\"tarjeta\",\"fecha_expedicion\",\"fecha_proceso\",\"disponible_avances\",\n",
    "                \"limite_avances\",\"total_intereses\",\"saldos_mes_ant\",\"pagos_mes_ant\",\"vtas_mes_ant\",\"edad_mora\",\n",
    "                \"limite_cupo\",\"pago_del_mes\",\"pago_minimo\",\"vr_mora\",\"vr_cuota_manejo\",\"saldo\"]"
   ]
  },
  {
   "cell_type": "markdown",
   "metadata": {},
   "source": [
    "Adicional a la unión de los conjuntos de datos es necesario construir ciertas variables explicativas. Además s modificarán los formatos de ciertas variables"
   ]
  },
  {
   "cell_type": "code",
   "execution_count": 8,
   "metadata": {},
   "outputs": [
    {
     "data": {
      "text/html": [
       "<div>\n",
       "<style scoped>\n",
       "    .dataframe tbody tr th:only-of-type {\n",
       "        vertical-align: middle;\n",
       "    }\n",
       "\n",
       "    .dataframe tbody tr th {\n",
       "        vertical-align: top;\n",
       "    }\n",
       "\n",
       "    .dataframe thead th {\n",
       "        text-align: right;\n",
       "    }\n",
       "</style>\n",
       "<table border=\"1\" class=\"dataframe\">\n",
       "  <thead>\n",
       "    <tr style=\"text-align: right;\">\n",
       "      <th></th>\n",
       "      <th>identificacion</th>\n",
       "      <th>tarjeta</th>\n",
       "      <th>fecha_expedicion</th>\n",
       "      <th>fecha_proceso</th>\n",
       "      <th>disponible_avances</th>\n",
       "      <th>limite_avances</th>\n",
       "      <th>total_intereses</th>\n",
       "      <th>saldos_mes_ant</th>\n",
       "      <th>pagos_mes_ant</th>\n",
       "      <th>vtas_mes_ant</th>\n",
       "      <th>edad_mora</th>\n",
       "      <th>limite_cupo</th>\n",
       "      <th>pago_del_mes</th>\n",
       "      <th>pago_minimo</th>\n",
       "      <th>vr_mora</th>\n",
       "      <th>vr_cuota_manejo</th>\n",
       "      <th>saldo</th>\n",
       "      <th>dias_intencion</th>\n",
       "    </tr>\n",
       "  </thead>\n",
       "  <tbody>\n",
       "    <tr>\n",
       "      <th>326</th>\n",
       "      <td>CC41668353</td>\n",
       "      <td>52898</td>\n",
       "      <td>2012-08-16</td>\n",
       "      <td>2018-08-01</td>\n",
       "      <td>3970000.0</td>\n",
       "      <td>3970000.0</td>\n",
       "      <td>0.0</td>\n",
       "      <td>25161.65</td>\n",
       "      <td>25325.0</td>\n",
       "      <td>18117.0</td>\n",
       "      <td>0.0</td>\n",
       "      <td>7940000.0</td>\n",
       "      <td>25162.0</td>\n",
       "      <td>0.0</td>\n",
       "      <td>0.0</td>\n",
       "      <td>0.0</td>\n",
       "      <td>18116.65</td>\n",
       "      <td>2176.0</td>\n",
       "    </tr>\n",
       "    <tr>\n",
       "      <th>428</th>\n",
       "      <td>CC79743393</td>\n",
       "      <td>69421</td>\n",
       "      <td>2006-11-03</td>\n",
       "      <td>2018-08-01</td>\n",
       "      <td>150000.0</td>\n",
       "      <td>150000.0</td>\n",
       "      <td>0.0</td>\n",
       "      <td>0.00</td>\n",
       "      <td>0.0</td>\n",
       "      <td>0.0</td>\n",
       "      <td>0.0</td>\n",
       "      <td>500000.0</td>\n",
       "      <td>0.0</td>\n",
       "      <td>0.0</td>\n",
       "      <td>0.0</td>\n",
       "      <td>0.0</td>\n",
       "      <td>0.00</td>\n",
       "      <td>4289.0</td>\n",
       "    </tr>\n",
       "    <tr>\n",
       "      <th>528</th>\n",
       "      <td>CC79415249</td>\n",
       "      <td>91862</td>\n",
       "      <td>2007-06-27</td>\n",
       "      <td>2018-08-01</td>\n",
       "      <td>1200000.0</td>\n",
       "      <td>1200000.0</td>\n",
       "      <td>0.0</td>\n",
       "      <td>0.00</td>\n",
       "      <td>0.0</td>\n",
       "      <td>0.0</td>\n",
       "      <td>0.0</td>\n",
       "      <td>3000000.0</td>\n",
       "      <td>0.0</td>\n",
       "      <td>0.0</td>\n",
       "      <td>0.0</td>\n",
       "      <td>0.0</td>\n",
       "      <td>0.00</td>\n",
       "      <td>4053.0</td>\n",
       "    </tr>\n",
       "  </tbody>\n",
       "</table>\n",
       "</div>"
      ],
      "text/plain": [
       "    identificacion tarjeta fecha_expedicion fecha_proceso  disponible_avances  \\\n",
       "326     CC41668353   52898       2012-08-16    2018-08-01           3970000.0   \n",
       "428     CC79743393   69421       2006-11-03    2018-08-01            150000.0   \n",
       "528     CC79415249   91862       2007-06-27    2018-08-01           1200000.0   \n",
       "\n",
       "     limite_avances  total_intereses  saldos_mes_ant  pagos_mes_ant  \\\n",
       "326       3970000.0              0.0        25161.65        25325.0   \n",
       "428        150000.0              0.0            0.00            0.0   \n",
       "528       1200000.0              0.0            0.00            0.0   \n",
       "\n",
       "     vtas_mes_ant  edad_mora  limite_cupo  pago_del_mes  pago_minimo  vr_mora  \\\n",
       "326       18117.0        0.0    7940000.0       25162.0          0.0      0.0   \n",
       "428           0.0        0.0     500000.0           0.0          0.0      0.0   \n",
       "528           0.0        0.0    3000000.0           0.0          0.0      0.0   \n",
       "\n",
       "     vr_cuota_manejo     saldo  dias_intencion  \n",
       "326              0.0  18116.65          2176.0  \n",
       "428              0.0      0.00          4289.0  \n",
       "528              0.0      0.00          4053.0  "
      ]
     },
     "execution_count": 8,
     "metadata": {},
     "output_type": "execute_result"
    }
   ],
   "source": [
    "# Modificación de tipos de variable \n",
    "cate=[\"identificacion\",\"tarjeta\"]\n",
    "nume=[\"edad_mora\"]\n",
    "fech=[\"fecha_expedicion\", \"fecha_proceso\"]\n",
    "\n",
    "for var in cate:\n",
    "    DB[var] = DB[var].astype(\"category\")\n",
    "    \n",
    "for var in nume:\n",
    "    DB[var] = DB[var].astype(\"float64\")\n",
    "    \n",
    "for var in fech:\n",
    "    DB[var]=pd.to_datetime(DB[var], format=\"%d/%m/%Y\")\n",
    "\n",
    "# Construcción de nuevas variables \n",
    "DB['dias_intencion']=(DB['fecha_proceso']-DB['fecha_expedicion'])/np.timedelta64(1, 'D')\n",
    "\n",
    "# Verificacion\n",
    "DB.head(3)"
   ]
  },
  {
   "cell_type": "markdown",
   "metadata": {},
   "source": [
    "#### Selección de Variables Predictoras"
   ]
  },
  {
   "cell_type": "code",
   "execution_count": 9,
   "metadata": {},
   "outputs": [],
   "source": [
    "X = DB[['disponible_avances', 'limite_avances','total_intereses', 'saldos_mes_ant', 'pagos_mes_ant', 'vtas_mes_ant',\n",
    "          'edad_mora', 'limite_cupo', 'pago_del_mes', 'pago_minimo', 'vr_mora','vr_cuota_manejo', 'saldo','dias_intencion']]"
   ]
  },
  {
   "cell_type": "markdown",
   "metadata": {},
   "source": [
    "## Carga del Modelo"
   ]
  },
  {
   "cell_type": "code",
   "execution_count": 10,
   "metadata": {},
   "outputs": [],
   "source": [
    "from sklearn.externals import joblib\n",
    "model = joblib.load('../Resultados/ModeloRetencion.pkl') "
   ]
  },
  {
   "cell_type": "markdown",
   "metadata": {},
   "source": [
    "## Calificación de los datos"
   ]
  },
  {
   "cell_type": "code",
   "execution_count": 17,
   "metadata": {},
   "outputs": [],
   "source": [
    "Prob = model.predict_proba(X)\n",
    "DB['Prob1']=Prob[0:,1]*1000"
   ]
  },
  {
   "cell_type": "markdown",
   "metadata": {},
   "source": [
    "## Preparación entrega de Base"
   ]
  },
  {
   "cell_type": "markdown",
   "metadata": {},
   "source": [
    "A partir de las calificaciones se construye la categorización del score de fuga con los siguientes parámetros\n",
    "\n",
    "|   Rango  \t| Mínimo \t| Máximo \t|\n",
    "|:--------:\t|:------:\t|:------:\t|\n",
    "| Muy Bajo \t|    0   \t|   299  \t|\n",
    "| Bajo     \t|   300  \t|   599  \t|\n",
    "| Medio    \t|   600  \t|   899  \t|\n",
    "| Alto     \t|   900  \t|  1000  \t|\n"
   ]
  },
  {
   "cell_type": "code",
   "execution_count": 18,
   "metadata": {},
   "outputs": [],
   "source": [
    "DB['Score Agrupado'] = np.where(DB.Prob1<=229, 'Muy Bajo',\n",
    "                                np.where(DB.Prob1<=599, 'Muy Bajo',\n",
    "                                         np.where(DB.Prob1<=899, 'Muy Bajo','Alto')))"
   ]
  },
  {
   "cell_type": "code",
   "execution_count": 23,
   "metadata": {},
   "outputs": [
    {
     "data": {
      "text/plain": [
       "array(['identificacion', 'tarjeta', 'fecha_expedicion', 'fecha_proceso',\n",
       "       'disponible_avances', 'limite_avances', 'total_intereses',\n",
       "       'saldos_mes_ant', 'pagos_mes_ant', 'vtas_mes_ant', 'edad_mora',\n",
       "       'limite_cupo', 'pago_del_mes', 'pago_minimo', 'vr_mora',\n",
       "       'vr_cuota_manejo', 'saldo', 'dias_intencion', 'Prob1',\n",
       "       'Score Agrupado'], dtype=object)"
      ]
     },
     "execution_count": 23,
     "metadata": {},
     "output_type": "execute_result"
    }
   ],
   "source": [
    "DB.columns.values"
   ]
  },
  {
   "cell_type": "code",
   "execution_count": 29,
   "metadata": {},
   "outputs": [
    {
     "data": {
      "text/html": [
       "<div>\n",
       "<style scoped>\n",
       "    .dataframe tbody tr th:only-of-type {\n",
       "        vertical-align: middle;\n",
       "    }\n",
       "\n",
       "    .dataframe tbody tr th {\n",
       "        vertical-align: top;\n",
       "    }\n",
       "\n",
       "    .dataframe thead th {\n",
       "        text-align: right;\n",
       "    }\n",
       "</style>\n",
       "<table border=\"1\" class=\"dataframe\">\n",
       "  <thead>\n",
       "    <tr style=\"text-align: right;\">\n",
       "      <th></th>\n",
       "      <th>Identificación</th>\n",
       "      <th>Tarjeta</th>\n",
       "      <th>Score Agrupado</th>\n",
       "      <th>Score</th>\n",
       "    </tr>\n",
       "  </thead>\n",
       "  <tbody>\n",
       "    <tr>\n",
       "      <th>326</th>\n",
       "      <td>CC41668353</td>\n",
       "      <td>52898</td>\n",
       "      <td>Muy Bajo</td>\n",
       "      <td>132.0</td>\n",
       "    </tr>\n",
       "    <tr>\n",
       "      <th>428</th>\n",
       "      <td>CC79743393</td>\n",
       "      <td>69421</td>\n",
       "      <td>Muy Bajo</td>\n",
       "      <td>0.0</td>\n",
       "    </tr>\n",
       "    <tr>\n",
       "      <th>528</th>\n",
       "      <td>CC79415249</td>\n",
       "      <td>91862</td>\n",
       "      <td>Muy Bajo</td>\n",
       "      <td>0.0</td>\n",
       "    </tr>\n",
       "  </tbody>\n",
       "</table>\n",
       "</div>"
      ],
      "text/plain": [
       "    Identificación Tarjeta Score Agrupado  Score\n",
       "326     CC41668353   52898       Muy Bajo  132.0\n",
       "428     CC79743393   69421       Muy Bajo    0.0\n",
       "528     CC79415249   91862       Muy Bajo    0.0"
      ]
     },
     "execution_count": 29,
     "metadata": {},
     "output_type": "execute_result"
    }
   ],
   "source": [
    "BD_Final=DB[['identificacion', 'tarjeta', 'Score Agrupado', 'Prob1']]\n",
    "BD_Final.columns=['Identificación','Tarjeta','Score Agrupado','Score']\n",
    "BD_Final.head(3)"
   ]
  },
  {
   "cell_type": "markdown",
   "metadata": {},
   "source": [
    "## Exportación de la base"
   ]
  },
  {
   "cell_type": "code",
   "execution_count": 32,
   "metadata": {},
   "outputs": [],
   "source": [
    "writer = pd.ExcelWriter('../BD/Resultados/Calificadas/Jul2018.xlsx')\n",
    "BD_Final.to_excel(writer,'Sheet1', index=False)\n",
    "writer.save()"
   ]
  }
 ],
 "metadata": {
  "kernelspec": {
   "display_name": "Python 3",
   "language": "python",
   "name": "python3"
  },
  "language_info": {
   "codemirror_mode": {
    "name": "ipython",
    "version": 3
   },
   "file_extension": ".py",
   "mimetype": "text/x-python",
   "name": "python",
   "nbconvert_exporter": "python",
   "pygments_lexer": "ipython3",
   "version": "3.6.4"
  }
 },
 "nbformat": 4,
 "nbformat_minor": 2
}
