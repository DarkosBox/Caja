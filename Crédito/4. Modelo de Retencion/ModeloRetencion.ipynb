{
 "cells": [
  {
   "cell_type": "markdown",
   "metadata": {},
   "source": [
    "<img src=\"https://www.cecodes.org.co/site/wp-content/uploads/2016/01/WP_asociado_COLSUBSIDIO-832x350.jpg\" alt=\"Logo Colsubsidio\" width=200>"
   ]
  },
  {
   "cell_type": "markdown",
   "metadata": {},
   "source": [
    "# Modelo de retención de Crédito"
   ]
  },
  {
   "cell_type": "markdown",
   "metadata": {},
   "source": [
    "## Importación de paquetes"
   ]
  },
  {
   "cell_type": "code",
   "execution_count": 1,
   "metadata": {},
   "outputs": [],
   "source": [
    "import pandas as pd\n",
    "import numpy as np\n",
    "import seaborn as sns\n",
    "import matplotlib.pyplot as plt"
   ]
  },
  {
   "cell_type": "markdown",
   "metadata": {},
   "source": [
    "## Cargue de datos"
   ]
  },
  {
   "cell_type": "code",
   "execution_count": 2,
   "metadata": {},
   "outputs": [
    {
     "data": {
      "text/html": [
       "<div>\n",
       "<style scoped>\n",
       "    .dataframe tbody tr th:only-of-type {\n",
       "        vertical-align: middle;\n",
       "    }\n",
       "\n",
       "    .dataframe tbody tr th {\n",
       "        vertical-align: top;\n",
       "    }\n",
       "\n",
       "    .dataframe thead th {\n",
       "        text-align: right;\n",
       "    }\n",
       "</style>\n",
       "<table border=\"1\" class=\"dataframe\">\n",
       "  <thead>\n",
       "    <tr style=\"text-align: right;\">\n",
       "      <th></th>\n",
       "      <th>identificacion</th>\n",
       "      <th>tarjeta</th>\n",
       "      <th>fecha_expedicion</th>\n",
       "      <th>intento</th>\n",
       "      <th>fecha_proceso</th>\n",
       "      <th>disponible_avances</th>\n",
       "      <th>limite_avances</th>\n",
       "      <th>total_intereses</th>\n",
       "      <th>saldos_mes_ant</th>\n",
       "      <th>pagos_mes_ant</th>\n",
       "      <th>vtas_mes_ant</th>\n",
       "      <th>edad_mora</th>\n",
       "      <th>limite_cupo</th>\n",
       "      <th>pago_del_mes</th>\n",
       "      <th>pago_minimo</th>\n",
       "      <th>vr_mora</th>\n",
       "      <th>vr_cuota_manejo</th>\n",
       "      <th>saldo</th>\n",
       "      <th>dias_intencion</th>\n",
       "    </tr>\n",
       "  </thead>\n",
       "  <tbody>\n",
       "    <tr>\n",
       "      <th>0</th>\n",
       "      <td>37555209</td>\n",
       "      <td>61</td>\n",
       "      <td>2006-11-03</td>\n",
       "      <td>0</td>\n",
       "      <td>2018-04-01</td>\n",
       "      <td>1476000.0</td>\n",
       "      <td>1476000.0</td>\n",
       "      <td>0.0</td>\n",
       "      <td>0.0</td>\n",
       "      <td>0.0</td>\n",
       "      <td>0.0</td>\n",
       "      <td>0</td>\n",
       "      <td>3690000.0</td>\n",
       "      <td>0.0</td>\n",
       "      <td>0.0</td>\n",
       "      <td>0.0</td>\n",
       "      <td>0.0</td>\n",
       "      <td>0.0</td>\n",
       "      <td>4167</td>\n",
       "    </tr>\n",
       "    <tr>\n",
       "      <th>1</th>\n",
       "      <td>52270584</td>\n",
       "      <td>103</td>\n",
       "      <td>2006-11-03</td>\n",
       "      <td>0</td>\n",
       "      <td>2018-04-01</td>\n",
       "      <td>300000.0</td>\n",
       "      <td>300000.0</td>\n",
       "      <td>0.0</td>\n",
       "      <td>0.0</td>\n",
       "      <td>0.0</td>\n",
       "      <td>0.0</td>\n",
       "      <td>0</td>\n",
       "      <td>1000000.0</td>\n",
       "      <td>0.0</td>\n",
       "      <td>0.0</td>\n",
       "      <td>0.0</td>\n",
       "      <td>0.0</td>\n",
       "      <td>0.0</td>\n",
       "      <td>4167</td>\n",
       "    </tr>\n",
       "    <tr>\n",
       "      <th>2</th>\n",
       "      <td>51583980</td>\n",
       "      <td>269</td>\n",
       "      <td>2006-11-04</td>\n",
       "      <td>0</td>\n",
       "      <td>2018-04-01</td>\n",
       "      <td>1050000.0</td>\n",
       "      <td>1050000.0</td>\n",
       "      <td>0.0</td>\n",
       "      <td>0.0</td>\n",
       "      <td>0.0</td>\n",
       "      <td>0.0</td>\n",
       "      <td>0</td>\n",
       "      <td>2625000.0</td>\n",
       "      <td>0.0</td>\n",
       "      <td>0.0</td>\n",
       "      <td>0.0</td>\n",
       "      <td>0.0</td>\n",
       "      <td>0.0</td>\n",
       "      <td>4166</td>\n",
       "    </tr>\n",
       "  </tbody>\n",
       "</table>\n",
       "</div>"
      ],
      "text/plain": [
       "   identificacion  tarjeta fecha_expedicion  intento fecha_proceso  \\\n",
       "0        37555209       61       2006-11-03        0    2018-04-01   \n",
       "1        52270584      103       2006-11-03        0    2018-04-01   \n",
       "2        51583980      269       2006-11-04        0    2018-04-01   \n",
       "\n",
       "   disponible_avances  limite_avances  total_intereses  saldos_mes_ant  \\\n",
       "0           1476000.0       1476000.0              0.0             0.0   \n",
       "1            300000.0        300000.0              0.0             0.0   \n",
       "2           1050000.0       1050000.0              0.0             0.0   \n",
       "\n",
       "   pagos_mes_ant  vtas_mes_ant  edad_mora  limite_cupo  pago_del_mes  \\\n",
       "0            0.0           0.0          0    3690000.0           0.0   \n",
       "1            0.0           0.0          0    1000000.0           0.0   \n",
       "2            0.0           0.0          0    2625000.0           0.0   \n",
       "\n",
       "   pago_minimo  vr_mora  vr_cuota_manejo  saldo  dias_intencion  \n",
       "0          0.0      0.0              0.0    0.0            4167  \n",
       "1          0.0      0.0              0.0    0.0            4167  \n",
       "2          0.0      0.0              0.0    0.0            4166  "
      ]
     },
     "execution_count": 2,
     "metadata": {},
     "output_type": "execute_result"
    }
   ],
   "source": [
    "data = pd.read_csv(\"../BD/Resultados/data.csv\")\n",
    "data.head(3)"
   ]
  },
  {
   "cell_type": "markdown",
   "metadata": {},
   "source": [
    "## Partición de Datos"
   ]
  },
  {
   "cell_type": "code",
   "execution_count": 3,
   "metadata": {},
   "outputs": [
    {
     "data": {
      "text/plain": [
       "Index(['identificacion', 'tarjeta', 'fecha_expedicion', 'intento',\n",
       "       'fecha_proceso', 'disponible_avances', 'limite_avances',\n",
       "       'total_intereses', 'saldos_mes_ant', 'pagos_mes_ant', 'vtas_mes_ant',\n",
       "       'edad_mora', 'limite_cupo', 'pago_del_mes', 'pago_minimo', 'vr_mora',\n",
       "       'vr_cuota_manejo', 'saldo', 'dias_intencion'],\n",
       "      dtype='object')"
      ]
     },
     "execution_count": 3,
     "metadata": {},
     "output_type": "execute_result"
    }
   ],
   "source": [
    "data.columns"
   ]
  },
  {
   "cell_type": "code",
   "execution_count": 4,
   "metadata": {},
   "outputs": [],
   "source": [
    "features=['disponible_avances', 'limite_avances','total_intereses', 'saldos_mes_ant', 'pagos_mes_ant', 'vtas_mes_ant',\n",
    "          'edad_mora', 'limite_cupo', 'pago_del_mes', 'pago_minimo', 'vr_mora','vr_cuota_manejo', 'saldo','dias_intencion']\n",
    "X = data[features]\n",
    "y = data['intento']"
   ]
  },
  {
   "cell_type": "code",
   "execution_count": 5,
   "metadata": {},
   "outputs": [],
   "source": [
    "from sklearn.model_selection import train_test_split\n",
    "x_train, x_test, y_train, y_test =train_test_split(X,y,test_size=0.3,random_state=31415)"
   ]
  },
  {
   "cell_type": "code",
   "execution_count": 6,
   "metadata": {},
   "outputs": [
    {
     "name": "stdout",
     "output_type": "stream",
     "text": [
      "(732036, 14) (512425, 14) (219611, 14)\n"
     ]
    }
   ],
   "source": [
    "print(X.shape, x_train.shape, x_test.shape)"
   ]
  },
  {
   "cell_type": "markdown",
   "metadata": {},
   "source": [
    "## Valores Ausentes"
   ]
  },
  {
   "cell_type": "code",
   "execution_count": 7,
   "metadata": {},
   "outputs": [
    {
     "data": {
      "text/plain": [
       "disponible_avances    None\n",
       "limite_avances        None\n",
       "total_intereses       None\n",
       "saldos_mes_ant        None\n",
       "pagos_mes_ant         None\n",
       "vtas_mes_ant          None\n",
       "edad_mora             None\n",
       "limite_cupo           None\n",
       "pago_del_mes          None\n",
       "pago_minimo           None\n",
       "vr_mora               None\n",
       "vr_cuota_manejo       None\n",
       "saldo                 None\n",
       "dias_intencion        None\n",
       "dtype: object"
      ]
     },
     "execution_count": 7,
     "metadata": {},
     "output_type": "execute_result"
    }
   ],
   "source": [
    "x_train.apply(lambda x: x.isnull().sum(), axis=0)\n",
    "x_train.apply(lambda x: x.fillna(x.mean(), inplace=True))"
   ]
  },
  {
   "cell_type": "markdown",
   "metadata": {},
   "source": [
    "## Balanceo de Muestra"
   ]
  },
  {
   "cell_type": "code",
   "execution_count": 9,
   "metadata": {},
   "outputs": [],
   "source": [
    "from imblearn.over_sampling import SMOTE"
   ]
  },
  {
   "cell_type": "code",
   "execution_count": 10,
   "metadata": {
    "scrolled": true
   },
   "outputs": [
    {
     "name": "stderr",
     "output_type": "stream",
     "text": [
      "C:\\Users\\hernyatt\\AppData\\Local\\Continuum\\anaconda3\\lib\\site-packages\\sklearn\\utils\\deprecation.py:77: DeprecationWarning: Function _ratio_float is deprecated; Use a float for 'ratio' is deprecated from version 0.2. The support will be removed in 0.4. Use a dict, str, or a callable instead.\n",
      "  warnings.warn(msg, category=DeprecationWarning)\n"
     ]
    }
   ],
   "source": [
    "sm = SMOTE(ratio=0.5, random_state=31415)\n",
    "X_res, y_res = sm.fit_sample(x_train, y_train)"
   ]
  },
  {
   "cell_type": "code",
   "execution_count": 11,
   "metadata": {},
   "outputs": [
    {
     "name": "stdout",
     "output_type": "stream",
     "text": [
      "(746566, 14) (746566,)\n"
     ]
    }
   ],
   "source": [
    "print(X_res.shape, y_res.shape)"
   ]
  },
  {
   "cell_type": "code",
   "execution_count": 12,
   "metadata": {},
   "outputs": [
    {
     "data": {
      "text/plain": [
       "0.33333288684456563"
      ]
     },
     "execution_count": 12,
     "metadata": {},
     "output_type": "execute_result"
    }
   ],
   "source": [
    "y_res.mean()"
   ]
  },
  {
   "cell_type": "markdown",
   "metadata": {},
   "source": [
    "## Estimación del modelo"
   ]
  },
  {
   "cell_type": "code",
   "execution_count": 19,
   "metadata": {},
   "outputs": [],
   "source": [
    "from sklearn.linear_model import LogisticRegression\n",
    "from sklearn.tree import DecisionTreeClassifier\n",
    "from sklearn.ensemble import RandomForestClassifier\n",
    "from sklearn.ensemble import GradientBoostingClassifier\n",
    "from sklearn.ensemble import AdaBoostClassifier\n",
    "\n",
    "\n",
    "models = {'lr': LogisticRegression()\n",
    "          #,'dt': DecisionTreeClassifier()\n",
    "          ,'rf': RandomForestClassifier(random_state=31415, n_jobs=-1, n_estimators=1000)\n",
    "          #,'gb': GradientBoostingClassifier(random_state=31415)\n",
    "          #,'ab': AdaBoostClassifier(random_state=31415)\n",
    "         }"
   ]
  },
  {
   "cell_type": "code",
   "execution_count": 20,
   "metadata": {},
   "outputs": [],
   "source": [
    "for model in models.keys():\n",
    "    models[model].fit(X_res, y_res)"
   ]
  },
  {
   "cell_type": "code",
   "execution_count": 24,
   "metadata": {},
   "outputs": [],
   "source": [
    "y_pred = pd.DataFrame(index=x_test.index, columns=models.keys())\n",
    "for model in models.keys():\n",
    "    y_pred[model] = models[model].predict(x_test)"
   ]
  },
  {
   "cell_type": "code",
   "execution_count": 25,
   "metadata": {},
   "outputs": [
    {
     "name": "stdout",
     "output_type": "stream",
     "text": [
      "lr accuracy 0.9264927530952457\n",
      "lr ROC 0.6072362396722738\n",
      "lr precision 0.12593262491521592\n",
      "lr recall 0.2688223938223938\n",
      "lr f1 score 0.17151655119322554\n",
      "rf accuracy 0.9647057752116242\n",
      "rf ROC 0.8544667013483644\n",
      "rf precision 0.42830453059318074\n",
      "rf recall 0.7376126126126126\n",
      "rf f1 score 0.5419301459724603\n"
     ]
    }
   ],
   "source": [
    "from sklearn.metrics import accuracy_score,precision_score, recall_score, f1_score, roc_auc_score\n",
    "\n",
    "for model in models.keys():\n",
    "    print(model,'accuracy',accuracy_score(y_test,y_pred[model]))\n",
    "    print(model,'ROC',roc_auc_score(y_test,y_pred[model]))    \n",
    "    print(model,'precision',precision_score(y_test,y_pred[model]))\n",
    "    print(model,'recall',recall_score(y_test,y_pred[model]))\n",
    "    print(model,'f1 score', f1_score(y_test,y_pred[model]))"
   ]
  },
  {
   "cell_type": "markdown",
   "metadata": {},
   "source": [
    "Se selecional el random Forest para predecir la probabilidad de fuga de los clientes."
   ]
  },
  {
   "cell_type": "markdown",
   "metadata": {},
   "source": [
    "### Almacenamiento del Modelo Final"
   ]
  },
  {
   "cell_type": "code",
   "execution_count": 27,
   "metadata": {},
   "outputs": [
    {
     "data": {
      "text/plain": [
       "['../Resultados/ModeloRetencion.pkl']"
      ]
     },
     "execution_count": 27,
     "metadata": {},
     "output_type": "execute_result"
    }
   ],
   "source": [
    "FinalMod=models['rf']\n",
    "from sklearn.externals import joblib\n",
    "joblib.dump(FinalMod, '../Resultados/ModeloRetencion.pkl')"
   ]
  },
  {
   "cell_type": "markdown",
   "metadata": {},
   "source": [
    "## Random Forest"
   ]
  },
  {
   "cell_type": "code",
   "execution_count": 28,
   "metadata": {},
   "outputs": [
    {
     "data": {
      "text/plain": [
       "Text(0.5,0,'Importancia Relativa')"
      ]
     },
     "execution_count": 28,
     "metadata": {},
     "output_type": "execute_result"
    },
    {
     "data": {
      "image/png": "[encoded data removed]",
      "text/plain": [
       "<matplotlib.figure.Figure at 0x27285978>"
      ]
     },
     "metadata": {},
     "output_type": "display_data"
    }
   ],
   "source": [
    "# Almacenamiento de la importancia de los predictores.\n",
    "importances = models['rf'].feature_importances_\n",
    "indices = np.argsort(importances)\n",
    "\n",
    "# Gráfico de importancia de los predictores.\n",
    "plt.figure(1)\n",
    "plt.title('Importancia de los Predictores')\n",
    "plt.barh(range(len(indices)), importances[indices], color='b', align='center')\n",
    "plt.yticks(range(len(indices)), [features[i] for i in indices])\n",
    "plt.xlabel('Importancia Relativa')"
   ]
  }
 ],
 "metadata": {
  "kernelspec": {
   "display_name": "Python 3",
   "language": "python",
   "name": "python3"
  },
  "language_info": {
   "codemirror_mode": {
    "name": "ipython",
    "version": 3
   },
   "file_extension": ".py",
   "mimetype": "text/x-python",
   "name": "python",
   "nbconvert_exporter": "python",
   "pygments_lexer": "ipython3",
   "version": "3.6.4"
  }
 },
 "nbformat": 4,
 "nbformat_minor": 2
}
